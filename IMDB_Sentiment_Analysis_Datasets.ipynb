{
  "nbformat": 4,
  "nbformat_minor": 0,
  "metadata": {
    "colab": {
      "name": "IMDB Sentiment Analysis - Datasets.ipynb",
      "provenance": [],
      "collapsed_sections": [
        "QXGYRYyImHQ7"
      ],
      "authorship_tag": "ABX9TyOo2L470vkVRN5hhbWBnnP4",
      "include_colab_link": true
    },
    "kernelspec": {
      "name": "python3",
      "display_name": "Python 3"
    },
    "accelerator": "GPU"
  },
  "cells": [
    {
      "cell_type": "markdown",
      "metadata": {
        "id": "view-in-github",
        "colab_type": "text"
      },
      "source": [
        "<a href=\"https://colab.research.google.com/github/saeidscorp/ipm-ai-summer-school/blob/master/IMDB_Sentiment_Analysis_Datasets.ipynb\" target=\"_parent\"><img src=\"https://colab.research.google.com/assets/colab-badge.svg\" alt=\"Open In Colab\"/></a>"
      ]
    },
    {
      "cell_type": "markdown",
      "metadata": {
        "id": "V5oxuMivnmFt",
        "colab_type": "text"
      },
      "source": [
        "# Meta"
      ]
    },
    {
      "cell_type": "markdown",
      "metadata": {
        "id": "c2uBNVDkndBZ",
        "colab_type": "text"
      },
      "source": [
        "### TODO\n",
        "- [x] Fix the random seed\n",
        "- [x] Preprocess text properly\n",
        "  - [x] Use spacy for lemmatization\n",
        "    - [ ] Test stop-word removal\n",
        "    - [ ] ~~Switch to spacy pipes and apply to batches~~\n",
        "  - [x] Map each input to token ids vector (from BERT tokenizer)\n",
        "- [x] Pad batches\n",
        "- [x] Save intermediate dataset to drive\n",
        "  - ~~`TFRecord` needs manual (de)serialization~~\n",
        "  - [ ] ~~Use `tf.data.experimental.save` instead~~\n",
        "  - [x] (Maybe an alternative:) Add cache-to-file in the pipeline\n",
        "  - [x] Add a widget to clear caches\n",
        "    - [ ] Extend it to clear any cache used anywhere\n",
        "  - [ ] ~~Conditionally use the cached dataset or generate from scratch~~\n",
        "    - Not needed for cache-to-file\n",
        "- [x] Test BERT + Dense\n",
        "  - Failed miserably\n",
        "- [ ] Shuffle training data between batches (repeat().shuffle().batch())\n",
        "- [ ] Architectures\n",
        "  - [x] Test Dense\n",
        "  - [x] Test ConvNet\n",
        "  - [x] Test LSTM\n",
        "    - Failed\n",
        "    - [x] Test LSTM + Conv\n",
        "      - Finally by reducing LSTM's size, some acceptable result\n",
        "  - [x] Test Conv + LSTM\n",
        "  - [ ] Test GRU"
      ]
    },
    {
      "cell_type": "markdown",
      "metadata": {
        "id": "pFasKbK_npkb",
        "colab_type": "text"
      },
      "source": [
        "## Notes\n",
        "- Preprocessing + shuffling + batching for train_ds, val_ds, test_ds each takes 20 mins now."
      ]
    },
    {
      "cell_type": "markdown",
      "metadata": {
        "id": "FZcImV-p19qY",
        "colab_type": "text"
      },
      "source": [
        "# Initialization & Data"
      ]
    },
    {
      "cell_type": "markdown",
      "metadata": {
        "id": "a6-WhhuThgkH",
        "colab_type": "text"
      },
      "source": [
        "## Mounting My Drive"
      ]
    },
    {
      "cell_type": "code",
      "metadata": {
        "id": "iG_N8PlihlRI",
        "colab_type": "code",
        "colab": {
          "base_uri": "https://localhost:8080/",
          "height": 36
        },
        "outputId": "55424a48-585d-49e4-9513-36998f90ebcc"
      },
      "source": [
        "from google.colab import drive\n",
        "drive.mount('/content/drive')"
      ],
      "execution_count": 32,
      "outputs": [
        {
          "output_type": "stream",
          "text": [
            "Drive already mounted at /content/drive; to attempt to forcibly remount, call drive.mount(\"/content/drive\", force_remount=True).\n"
          ],
          "name": "stdout"
        }
      ]
    },
    {
      "cell_type": "markdown",
      "metadata": {
        "id": "aIMv5vOy3F6m",
        "colab_type": "text"
      },
      "source": [
        "Dear TA, mounting a drive isn't necessary since the following snippet will create the directories (just in case)"
      ]
    },
    {
      "cell_type": "code",
      "metadata": {
        "id": "UiE4fT0rcJEE",
        "colab_type": "code",
        "colab": {}
      },
      "source": [
        "!mkdir -p '/content/drive/My Drive/IPM AI/Models/'\n",
        "!mkdir -p '/content/drive/My Drive/IPM AI/caches/'"
      ],
      "execution_count": null,
      "outputs": []
    },
    {
      "cell_type": "markdown",
      "metadata": {
        "id": "18Fl1ygYjA6v",
        "colab_type": "text"
      },
      "source": [
        "## Libraries\n",
        "- TensorFlow\n",
        "- Keras\n",
        "- NumPy\n",
        "- spaCy\n",
        "- Google BERT"
      ]
    },
    {
      "cell_type": "code",
      "metadata": {
        "id": "_0A7gvdvwVzZ",
        "colab_type": "code",
        "colab": {}
      },
      "source": [
        "# import libraries & download datasets\n",
        "\n",
        "%load_ext tensorboard\n",
        "\n",
        "import numpy as np\n",
        "import tensorflow as tf\n",
        "import tensorflow.keras as keras\n",
        "import tensorflow_datasets as tfds\n",
        "import tensorflow_hub as hub\n",
        "\n",
        "print(f\"Tensorflow version: {tf.__version__}\")\n",
        "print(f\"Keras version: {keras.__version__}\")\n",
        "\n",
        "import datetime, os\n",
        "\n",
        "tf.random.set_seed(1)  # consistent results\n",
        "\n",
        "print(\"Fetching spaCy model...\")\n",
        "!python -m spacy download en_core_web_md\n",
        "import spacy\n",
        "from spacy.lang.en import English\n",
        "print(\"Importing spaCy model...\")\n",
        "import en_core_web_md\n",
        "\n",
        "print(\"Loading spaCy model...\")\n",
        "nlp = en_core_web_md.load(disable=['tagger', 'ner', 'textcat',\n",
        "                                   'entity_ruler', 'entity_linker'])\n",
        "\n",
        "\n",
        "print(\"Installing BERT for TF2...\")\n",
        "!pip install bert-for-tf2\n",
        "\n",
        "print(\"\\nLoading BERT model..\")\n",
        "import bert\n",
        "bert_model_name = \"wwm_uncased_L-24_H-1024_A-16\"\n",
        "# bert_model_name = \"uncased_L-12_H-768_A-12\"\n",
        "\n",
        "bert_model_dir = bert.fetch_google_bert_model(bert_model_name, \".models\")\n",
        "bert_model_ckpt = os.path.join(bert_model_dir, \"bert_model.ckpt\")\n",
        "\n",
        "bert_params = bert.params_from_pretrained_ckpt(bert_model_dir)\n",
        "\n",
        "do_lower_case = not (bert_model_name.find(\"cased\") == 0 or bert_model_name.find(\"multi_cased\") == 0)\n",
        "bert.bert_tokenization.validate_case_matches_checkpoint(do_lower_case, bert_model_ckpt)\n",
        "bert_vocab_file = os.path.join(bert_model_dir, \"vocab.txt\")\n",
        "bert_tokenizer = bert.bert_tokenization.FullTokenizer(bert_vocab_file, do_lower_case)\n",
        "\n",
        "print(\"Done\")"
      ],
      "execution_count": null,
      "outputs": []
    },
    {
      "cell_type": "code",
      "metadata": {
        "id": "DJXrGXKZd_23",
        "colab_type": "code",
        "colab": {}
      },
      "source": [
        "elmo_url = \"https://tfhub.dev/google/elmo/3\"\n",
        "#elmo = hub.Module(elmo_url, trainable=False)  # needs graph evaluation :("
      ],
      "execution_count": null,
      "outputs": []
    },
    {
      "cell_type": "markdown",
      "metadata": {
        "id": "YTQTcnS1CpCY",
        "colab_type": "text"
      },
      "source": [
        "## Preprocessing Methods"
      ]
    },
    {
      "cell_type": "code",
      "metadata": {
        "id": "6gNHCG4kizOO",
        "colab_type": "code",
        "colab": {}
      },
      "source": [
        "import textwrap\n",
        "\n",
        "text = (\"Psychedelics (also known as serotonergic hallucinogens) are a class of psychoactive substances that produce an altered state of consciousness marked by unusual changes in perception, mood, and cognitive processes. \"\n",
        "\"While their precise mechanism of action is not known, psychedelics are thought to produce their characteristic effects by binding to serotonin receptors (5HT), particularly the 5-HT2a subtype. \"\n",
        "\"Serotonin plays a number of critical roles throughout the human body and is a key neurotransmitter involved in the functioning and regulation of sensory perception, behavior, mood, cognition and memory.\\n\\n\"\n",
        "\n",
        "\"Human usage of psychedelics predates written history, and there is growing evidence that they were employed by early cultures in a variety of sociocultural and ritual contexts. \"\n",
        "\"In modern times, psychedelic substances are used for a number of purposes that span from the traditional shamanic forms (such as the use of ayahuasca in the Amazon jungle, or peyote among Native Americans) to more modern forms of New Age spiritual, transpersonal, or religious practices. \"\n",
        "\"Psychedelics, particularly those in the traditional or herbal forms, are sometimes referred to as entheogens (i.e. \\\"generating the divine within\\\") by those who use them for these purposes, although they are also often used in purely recreational settings.\")\n",
        "\n",
        "# print(textwrap.fill(text, width=80))"
      ],
      "execution_count": null,
      "outputs": []
    },
    {
      "cell_type": "code",
      "metadata": {
        "id": "u8y-5TockhZ-",
        "colab_type": "code",
        "colab": {}
      },
      "source": [
        "# max_seq_len = 3168  # real max of the data\n",
        "\n",
        "def preprocess_item(text, label):\n",
        "  text = text.numpy().decode('utf-8')\n",
        "  \n",
        "  text = text.lower().replace('\\n', ' ').replace('\\t', ' ').replace('\\xa0',' ')  # get rid of problem chars\n",
        "  text = ' '.join(text.split())  # a quick way of removing excess whitespace\n",
        "  doc = nlp(text) # TODO: disable un-needed pipeline components\n",
        "\n",
        "  output_text = \"\"\n",
        "  for token in doc:\n",
        "    # lemmatization\n",
        "    output_text += token.lemma_ + token.whitespace_\n",
        "\n",
        "  tok_str_list = bert_tokenizer.tokenize(output_text)\n",
        "  tok_id_list = bert_tokenizer.convert_tokens_to_ids(tok_str_list)\n",
        "\n",
        "  tok_tensor = tf.constant(tok_id_list)\n",
        "  tok_tensor.set_shape([len(tok_id_list)])\n",
        "  \n",
        "  return tok_tensor, tf.cast(label, tf.float32)\n",
        "\n",
        "def eager_preprocess(text, label):\n",
        "  word_array, c_label = tf.py_function(preprocess_item, inp=[text, label], Tout=(tf.int32, tf.float32))\n",
        "  # word_array.set_shape([count.numpy(),])\n",
        "  c_label.set_shape([])\n",
        "  return word_array, c_label"
      ],
      "execution_count": 34,
      "outputs": []
    },
    {
      "cell_type": "code",
      "metadata": {
        "id": "kqyS7YkGmsYB",
        "colab_type": "code",
        "colab": {}
      },
      "source": [
        "sentences = preprocess_item(tf.constant(text), 0)\n",
        "#sentences"
      ],
      "execution_count": null,
      "outputs": []
    },
    {
      "cell_type": "code",
      "metadata": {
        "id": "r0IweU5BZbEg",
        "colab_type": "code",
        "colab": {}
      },
      "source": [
        "max_seq_len = 1000\n",
        "\n",
        "from functools import wraps\n",
        "\n",
        "def second_arg(arg2):\n",
        "  def func_decorator(func):\n",
        "    @wraps(func)\n",
        "    def wrapped_func(sample, label):\n",
        "      return func(sample, arg2), label\n",
        "    return wrapped_func\n",
        "  return func_decorator\n",
        "\n",
        "@second_arg(max_seq_len)\n",
        "def clip_fill_to_size(t, size):\n",
        "  cs = tf.size(t)\n",
        "  if cs < size:  # pad up\n",
        "    t1 = tf.constant([[0, size]])\n",
        "    t2 = tf.shape(t)[0] * tf.constant([[0, 1]], dtype=tf.int32)\n",
        "    padding_tensor = t1 - t2\n",
        "    return tf.pad(t, padding_tensor)\n",
        "  else:  # slice (truncate) down\n",
        "    return t[:size]"
      ],
      "execution_count": 35,
      "outputs": []
    },
    {
      "cell_type": "code",
      "metadata": {
        "id": "Qo8OU6OC1CON",
        "colab_type": "code",
        "colab": {}
      },
      "source": [
        "t = tf.constant([18147,  1006,  2036,  2113,  1037, 14262, 25862,  2121, 12863], dtype=tf.int32)\n",
        "\n",
        "#clip_fill_to_size(t, 1)"
      ],
      "execution_count": null,
      "outputs": []
    },
    {
      "cell_type": "markdown",
      "metadata": {
        "id": "Z8oRG1PrGxI4",
        "colab_type": "text"
      },
      "source": [
        "## Datasets"
      ]
    },
    {
      "cell_type": "code",
      "metadata": {
        "id": "VBeDkLWKs0Ae",
        "colab_type": "code",
        "colab": {}
      },
      "source": [
        "full_ds, ds_info = tfds.load('imdb_reviews', split='train+test',\n",
        "                             as_supervised=True, with_info=True)\n",
        "\n",
        "import operator\n",
        "from functools import reduce\n",
        "full_ds_size = reduce(operator.add, [ds_info.splits[split].num_examples for split in ['train', 'test']])"
      ],
      "execution_count": 36,
      "outputs": []
    },
    {
      "cell_type": "code",
      "metadata": {
        "id": "VgdmJJ9xJ2cY",
        "colab_type": "code",
        "colab": {
          "base_uri": "https://localhost:8080/",
          "height": 75
        },
        "outputId": "90e62cfc-ddc0-4056-cd09-b3e75b754395"
      },
      "source": [
        "# next(iter(full_ds))  # see the shape"
      ],
      "execution_count": null,
      "outputs": [
        {
          "output_type": "execute_result",
          "data": {
            "text/plain": [
              "(<tf.Tensor: shape=(), dtype=string, numpy=b\"This was an absolutely terrible movie. Don't be lured in by Christopher Walken or Michael Ironside. Both are great actors, but this must simply be their worst role in history. Even their great acting could not redeem this movie's ridiculous storyline. This movie is an early nineties US propaganda piece. The most pathetic scenes were those when the Columbian rebels were making their cases for revolutions. Maria Conchita Alonso appeared phony, and her pseudo-love affair with Walken was nothing but a pathetic emotional plug in a movie that was devoid of any real meaning. I am disappointed that there are movies like this, ruining actor's like Christopher Walken's good name. I could barely sit through it.\">,\n",
              " <tf.Tensor: shape=(), dtype=int64, numpy=0>)"
            ]
          },
          "metadata": {
            "tags": []
          },
          "execution_count": 10
        }
      ]
    },
    {
      "cell_type": "code",
      "metadata": {
        "id": "Nb5e-CJzMbIw",
        "colab_type": "code",
        "colab": {
          "base_uri": "https://localhost:8080/",
          "height": 285
        },
        "outputId": "8450e46d-e57b-40f0-d2cc-bfc9c5ac39b4"
      },
      "source": [
        "# preprocessing of data & splitting\n",
        "\n",
        "caches_path = \"/content/drive/My Drive/IPM AI/caches/\"\n",
        "mapped_cache_filename = os.path.join(caches_path, \"imdb-mapped.cache\")\n",
        "\n",
        "mapped_ds = full_ds.map(eager_preprocess, num_parallel_calls=tf.data.experimental.AUTOTUNE)\n",
        "mapped_ds = mapped_ds.cache(filename=mapped_cache_filename)  # do the hard preprocessing at once & save it\n",
        "mapped_ds = mapped_ds.cache()\n",
        "\n",
        "len_cache_filename = os.path.join(caches_path, \"imdb-mapped-lens.cache\")\n",
        "len_ds = (mapped_ds.map(lambda v, l: tf.size(v), num_parallel_calls=tf.data.experimental.AUTOTUNE)\n",
        "                   .cache(filename=len_cache_filename))\n",
        "\n",
        "stats = len_ds.reduce((tf.constant(0), tf.constant(-1)), lambda m, x: (m[0] + 1, tf.math.add(m[1], x)))\n",
        "avg_len = (stats[1]/stats[0]).numpy()\n",
        "\n",
        "print(\"Average length of vectors for reviews: {}\".format(avg_len))\n",
        "\n",
        "import matplotlib.pyplot as plt\n",
        "x = np.fromiter(len_ds.as_numpy_iterator(), dtype=np.int32)\n",
        "plt.hist(x, bins=50)\n",
        "plt.show()"
      ],
      "execution_count": 37,
      "outputs": [
        {
          "output_type": "stream",
          "text": [
            "Average length of vectors for reviews: 309.53178\n"
          ],
          "name": "stdout"
        },
        {
          "output_type": "display_data",
          "data": {
            "image/png": "[encoded data removed]",
            "text/plain": [
              "<Figure size 432x288 with 1 Axes>"
            ]
          },
          "metadata": {
            "tags": [],
            "needs_background": "light"
          }
        }
      ]
    },
    {
      "cell_type": "code",
      "metadata": {
        "id": "8SpKvSPonJqV",
        "colab_type": "code",
        "colab": {
          "base_uri": "https://localhost:8080/",
          "height": 36
        },
        "outputId": "157954bb-d42e-478e-b88f-203d36d38986"
      },
      "source": [
        "# !rm -v /content/drive/My\\ Drive/IPM\\ AI/caches/imdb-test.cache*"
      ],
      "execution_count": null,
      "outputs": [
        {
          "output_type": "stream",
          "text": [
            "rm: cannot remove '/content/drive/My Drive/IPM AI/caches/imdb-test.cache*': No such file or directory\n"
          ],
          "name": "stdout"
        }
      ]
    },
    {
      "cell_type": "code",
      "metadata": {
        "id": "MA1CJezvvbBB",
        "colab_type": "code",
        "colab": {}
      },
      "source": [
        "clip_cache_filename = os.path.join(caches_path, \"imdb-mapped-clipped.cache\")\n",
        "clip_ds = mapped_ds.map(clip_fill_to_size, num_parallel_calls=tf.data.experimental.AUTOTUNE)\n",
        "clip_ds = clip_ds.cache(filename=clip_cache_filename)"
      ],
      "execution_count": 38,
      "outputs": []
    },
    {
      "cell_type": "code",
      "metadata": {
        "id": "hI3wPRAHv_AI",
        "colab_type": "code",
        "colab": {}
      },
      "source": [
        "# next(iter(clip_ds))"
      ],
      "execution_count": null,
      "outputs": []
    },
    {
      "cell_type": "code",
      "metadata": {
        "id": "6SOrZh1hsj15",
        "colab_type": "code",
        "colab": {}
      },
      "source": [
        "# train, validation, test split\n",
        "\n",
        "full_ds_shuffle_cache_filename = os.path.join(caches_path, \"imdb-mapped-clipped-shuffle.cache\")\n",
        "prep_ds = clip_ds.cache()  # cache in-memory for faster shuffling\n",
        "prep_ds = prep_ds.shuffle(full_ds_size)  # full shuffling of all data\n",
        "prep_ds = prep_ds.cache(filename=full_ds_shuffle_cache_filename)  # save the result of expensive shuffle\n",
        "\n",
        "train_ds_size = int(0.50 * full_ds_size)\n",
        "val_ds_size = int(0.25 * full_ds_size)\n",
        "test_ds_size = full_ds_size - train_ds_size - val_ds_size\n",
        "\n",
        "train_ds = prep_ds.take(train_ds_size)\n",
        "remaining = prep_ds.skip(train_ds_size)  \n",
        "val_ds = remaining.take(val_ds_size)\n",
        "test_ds = remaining.skip(val_ds_size)\n",
        "\n",
        "\n",
        "# performances: cache & batch & prefetch\n",
        "\n",
        "BATCH_SIZE = 128\n",
        "\n",
        "\n",
        "train_cache_filename = os.path.join(caches_path, \"imdb-train.cache\")\n",
        "train_ds = train_ds.cache()  # cache in-memory for faster shuffling\n",
        "train_ds = train_ds.shuffle(train_ds_size)\n",
        "train_ds = train_ds.batch(BATCH_SIZE)\n",
        "train_ds = train_ds.cache(filename=train_cache_filename)  # pre-made batches ready for training :)\n",
        "train_ds = train_ds.cache()  # also keep in memory to reduce read time\n",
        "train_ds = train_ds.prefetch(tf.data.experimental.AUTOTUNE)  # prefetch for more efficient use of time when GPU is busy\n",
        "\n",
        "\n",
        "val_cache_filename = os.path.join(caches_path, \"imdb-val.cache\")\n",
        "val_ds = val_ds.batch(BATCH_SIZE)\n",
        "val_ds = val_ds.cache(filename=val_cache_filename)\n",
        "val_ds = val_ds.cache()\n",
        "val_ds = val_ds.prefetch(tf.data.experimental.AUTOTUNE)\n",
        "\n",
        "\n",
        "test_cache_filename = os.path.join(caches_path, \"imdb-test.cache\")\n",
        "test_ds = test_ds.batch(BATCH_SIZE)\n",
        "test_ds = test_ds.cache(filename=test_cache_filename)\n",
        "test_ds = test_ds.cache()\n",
        "test_ds = test_ds.prefetch(tf.data.experimental.AUTOTUNE)"
      ],
      "execution_count": 40,
      "outputs": []
    },
    {
      "cell_type": "code",
      "metadata": {
        "id": "8KetZ3sEAdMb",
        "colab_type": "code",
        "colab": {}
      },
      "source": [
        "# next(iter(train_ds))  # UPDATE: shouldn't take long now (UPDATE UPDATE: yes, only 2 seconds compared to 20 mins!)"
      ],
      "execution_count": null,
      "outputs": []
    },
    {
      "cell_type": "code",
      "metadata": {
        "id": "Q--rqtr57t2p",
        "colab_type": "code",
        "colab": {
          "base_uri": "https://localhost:8080/",
          "height": 36
        },
        "outputId": "789314a3-5771-426f-f622-5717be489cfb"
      },
      "source": [
        "reducer = lambda m, x: tf.math.maximum(m, x)\n",
        "vocab_size = (mapped_ds.map(lambda x, l: tf.reduce_max(x))\n",
        "                       .reduce(tf.constant(-1), reducer)).numpy() + 1\n",
        "vocab_size"
      ],
      "execution_count": 41,
      "outputs": [
        {
          "output_type": "execute_result",
          "data": {
            "text/plain": [
              "30148"
            ]
          },
          "metadata": {
            "tags": []
          },
          "execution_count": 41
        }
      ]
    },
    {
      "cell_type": "markdown",
      "metadata": {
        "id": "QXGYRYyImHQ7",
        "colab_type": "text"
      },
      "source": [
        "### Purge cache"
      ]
    },
    {
      "cell_type": "code",
      "metadata": {
        "id": "eXCQbufIxQZl",
        "colab_type": "code",
        "colab": {}
      },
      "source": [
        "import ipywidgets as widgets\n",
        "from IPython.display import display, clear_output, Markdown\n",
        "\n",
        "del_cache_button = widgets.Button(description='Delete Cache')\n",
        "del_cache_out = widgets.Output()\n",
        "\n",
        "def delete_file(filename):\n",
        "  if os.path.exists(filename):\n",
        "    os.remove(filename)\n",
        "    return True\n",
        "  else:\n",
        "    return False\n",
        "\n",
        "def delete_cache():\n",
        "  return delete_file(prep_cache_filename)\n",
        "\n",
        "def on_button_clicked(_):\n",
        "  with del_cache_out:\n",
        "    clear_output()\n",
        "    if delete_cache():\n",
        "      print(Markdown('''<span style='color: green'>Cache cleared!</span>'''))\n",
        "    else:\n",
        "      display(Markdown('''<span style='color: grey'>Cache empty!</span>'''))\n",
        "\n",
        "del_cache_button.on_click(on_button_clicked)\n",
        "display(del_cache_button, del_cache_out)"
      ],
      "execution_count": null,
      "outputs": []
    },
    {
      "cell_type": "markdown",
      "metadata": {
        "id": "NKfzbTxjBvO1",
        "colab_type": "text"
      },
      "source": [
        "# Utilities"
      ]
    },
    {
      "cell_type": "code",
      "metadata": {
        "id": "40yv36RvfRMw",
        "colab_type": "code",
        "colab": {}
      },
      "source": [
        "# memory footprint support libraries/code\n",
        "!ln -sf /opt/bin/nvidia-smi /usr/bin/nvidia-smi\n",
        "!pip install gputil\n",
        "!pip install psutil\n",
        "!pip install humanize"
      ],
      "execution_count": null,
      "outputs": []
    },
    {
      "cell_type": "code",
      "metadata": {
        "id": "gS4l6iUrefRW",
        "colab_type": "code",
        "colab": {
          "base_uri": "https://localhost:8080/",
          "height": 55
        },
        "outputId": "a92d8c88-6c5f-4ce4-f0e8-9f81931c4874"
      },
      "source": [
        "import psutil\n",
        "import humanize\n",
        "import os\n",
        "import GPUtil as GPU\n",
        "GPUs = GPU.getGPUs()\n",
        "# XXX: only one GPU on Colab and isn’t guaranteed\n",
        "gpu = GPUs[0]\n",
        "def printm():\n",
        " process = psutil.Process(os.getpid())\n",
        " print(\"Gen RAM Free: \" + humanize.naturalsize( psutil.virtual_memory().available ), \" | Proc size: \" + humanize.naturalsize( process.memory_info().rss))\n",
        " print(\"GPU RAM Free: {0:.0f}MB | Used: {1:.0f}MB | Util {2:3.0f}% | Total {3:.0f}MB\".format(gpu.memoryFree, gpu.memoryUsed, gpu.memoryUtil*100, gpu.memoryTotal))\n",
        "printm() "
      ],
      "execution_count": 42,
      "outputs": [
        {
          "output_type": "stream",
          "text": [
            "Gen RAM Free: 10.6 GB  | Proc size: 4.2 GB\n",
            "GPU RAM Free: 13671MB | Used: 2609MB | Util  16% | Total 16280MB\n"
          ],
          "name": "stdout"
        }
      ]
    },
    {
      "cell_type": "code",
      "metadata": {
        "id": "DJwl7O60mBi5",
        "colab_type": "code",
        "colab": {}
      },
      "source": [
        "def plot_history(history):\n",
        "  history_dict = history.history\n",
        "  history_dict.keys()\n",
        "\n",
        "  acc = history_dict['binary_accuracy']\n",
        "  val_acc = history_dict['val_binary_accuracy']\n",
        "  loss = history_dict['loss']\n",
        "  val_loss = history_dict['val_loss']\n",
        "\n",
        "  epochs = range(1, len(acc) + 1)\n",
        "\n",
        "  plt.plot(epochs, acc, 'bo', label='Training acc')\n",
        "  plt.plot(epochs, val_acc, 'b', label='Validation acc')\n",
        "  plt.title('Training and validation accuracy')\n",
        "  plt.xlabel('Epochs')\n",
        "  plt.ylabel('Accuracy')\n",
        "  plt.legend()\n",
        "\n",
        "  plt.show()"
      ],
      "execution_count": 54,
      "outputs": []
    },
    {
      "cell_type": "code",
      "metadata": {
        "id": "U4k5wwMLfnab",
        "colab_type": "code",
        "colab": {}
      },
      "source": [
        "# %tensorboard --logdir logs"
      ],
      "execution_count": null,
      "outputs": []
    },
    {
      "cell_type": "markdown",
      "metadata": {
        "id": "Cs0e5YGS2IaS",
        "colab_type": "text"
      },
      "source": [
        "# Model #1"
      ]
    },
    {
      "cell_type": "markdown",
      "metadata": {
        "id": "gkfReM-qja4L",
        "colab_type": "text"
      },
      "source": [
        "## Design"
      ]
    },
    {
      "cell_type": "code",
      "metadata": {
        "id": "U_Endi2K2LzB",
        "colab_type": "code",
        "colab": {
          "base_uri": "https://localhost:8080/",
          "height": 511
        },
        "outputId": "aa1abcf3-fb61-4aab-cde9-4b4c1ae3a173"
      },
      "source": [
        "# build the damn model\n",
        "\n",
        "from tensorflow.keras import layers\n",
        "\n",
        "model_1 = keras.models.Sequential(name='sentiment')\n",
        "\n",
        "## model.add(hub.KerasLayer(\"https://tfhub.dev/google/tf2-preview/nnlm-en-dim128/1\",\n",
        "##                          input_shape=[], dtype=tf.string))\n",
        "\n",
        "model_1.add(layers.Embedding(vocab_size, 128, input_length=max_seq_len, mask_zero=True, name='embedding'))\n",
        "model_1.add(layers.Flatten(name='flatten'))\n",
        "model_1.add(layers.Dropout(0.2, name='dropout_1'))\n",
        "model_1.add(layers.Dense(128, activation='relu', name='dense_1'))\n",
        "model_1.add(layers.Dropout(0.1, name='dropout_2'))\n",
        "model_1.add(layers.Dense(64, activation='relu', name='dense_2'))\n",
        "model_1.add(layers.Dropout(0.05, name='dropout_3'))\n",
        "model_1.add(layers.Dense(64, activation='relu', name='dense_3'))\n",
        "model_1.add(layers.Dense(1, activation='sigmoid', name='label'))\n",
        "\n",
        "model_1.build(input_shape=(None, max_seq_len))\n",
        "\n",
        "model_1.summary()"
      ],
      "execution_count": 44,
      "outputs": [
        {
          "output_type": "stream",
          "text": [
            "Model: \"sentiment\"\n",
            "_________________________________________________________________\n",
            "Layer (type)                 Output Shape              Param #   \n",
            "=================================================================\n",
            "embedding (Embedding)        (None, 1000, 128)         3858944   \n",
            "_________________________________________________________________\n",
            "flatten (Flatten)            (None, 128000)            0         \n",
            "_________________________________________________________________\n",
            "dropout_1 (Dropout)          (None, 128000)            0         \n",
            "_________________________________________________________________\n",
            "dense_1 (Dense)              (None, 128)               16384128  \n",
            "_________________________________________________________________\n",
            "dropout_2 (Dropout)          (None, 128)               0         \n",
            "_________________________________________________________________\n",
            "dense_2 (Dense)              (None, 64)                8256      \n",
            "_________________________________________________________________\n",
            "dropout_3 (Dropout)          (None, 64)                0         \n",
            "_________________________________________________________________\n",
            "dense_3 (Dense)              (None, 64)                4160      \n",
            "_________________________________________________________________\n",
            "label (Dense)                (None, 1)                 65        \n",
            "=================================================================\n",
            "Total params: 20,255,553\n",
            "Trainable params: 20,255,553\n",
            "Non-trainable params: 0\n",
            "_________________________________________________________________\n"
          ],
          "name": "stdout"
        }
      ]
    },
    {
      "cell_type": "code",
      "metadata": {
        "id": "XQTq5JSpLSie",
        "colab_type": "code",
        "colab": {}
      },
      "source": [
        "# failed attempt at using bert layer. BERT-Large: OOM, BERT-Base: 0.50 accuracy :(\n",
        "\n",
        "# from tensorflow.keras import layers\n",
        "\n",
        "# input_ids = keras.Input(shape=(max_seq_len,), dtype='int32', name='input_ids')\n",
        "\n",
        "# bert_layer = bert.BertModelLayer.from_params(bert_params, name=\"bert\")\n",
        "\n",
        "# dropout_1 = layers.Dropout(0.2, name='dropout_1')\n",
        "# conv_1 = layers.Conv1D(128, 3, padding='valid', activation='relu', strides=1, name='conv_1')\n",
        "# max_pooling_1 = layers.GlobalMaxPooling1D(name='max_pooling_1')\n",
        "\n",
        "# dropout_2 = layers.Dropout(0.1, name='dropout_2')\n",
        "# dense_1 = layers.Dense(128, activation='relu', name='dense_1')\n",
        "\n",
        "# dropout_3 = layers.Dropout(0.05, name='dropout_3')\n",
        "# dense_2 = layers.Dense(64, activation='relu', name='dense_2')\n",
        "\n",
        "# label = layers.Dense(1, activation='sigmoid', name='label')\n",
        "\n",
        "# output = label(dense_2(dropout_3(dense_1(dropout_2(\n",
        "              #  max_pooling_1(conv_1(dropout_1(bert_layer(input_ids)))))))))\n",
        "\n",
        "# model = keras.models.Model(inputs=[input_ids], outputs=[output], name='sentiment')\n",
        "# model.build(input_shape=(None, max_seq_len))\n",
        "\n",
        "# bert.load_bert_weights(bert_layer, bert_model_ckpt)      # should be called after model.build()\n",
        "\n",
        "# model.summary()"
      ],
      "execution_count": null,
      "outputs": []
    },
    {
      "cell_type": "code",
      "metadata": {
        "id": "_jHFGufqh7Oo",
        "colab_type": "code",
        "colab": {
          "base_uri": "https://localhost:8080/",
          "height": 1000
        },
        "outputId": "c356dde6-66bd-400a-b352-ccab07ae0452"
      },
      "source": [
        "keras.utils.plot_model(model_1, show_shapes=True)"
      ],
      "execution_count": 129,
      "outputs": [
        {
          "output_type": "execute_result",
          "data": {
            "image/png": "[encoded data removed]",
            "text/plain": [
              "<IPython.core.display.Image object>"
            ]
          },
          "metadata": {
            "tags": []
          },
          "execution_count": 129
        }
      ]
    },
    {
      "cell_type": "code",
      "metadata": {
        "id": "sJ8tdtj6hiYY",
        "colab_type": "code",
        "colab": {}
      },
      "source": [
        "# compile it\n",
        "\n",
        "from tensorflow.keras import optimizers\n",
        "from tensorflow.keras import losses\n",
        "from tensorflow.keras import metrics\n",
        "\n",
        "def compile_model(model):\n",
        "  model.compile(optimizer=optimizers.Adam(),\n",
        "                loss=losses.BinaryCrossentropy(from_logits=True),\n",
        "                metrics=[metrics.binary_accuracy])"
      ],
      "execution_count": 45,
      "outputs": []
    },
    {
      "cell_type": "code",
      "metadata": {
        "id": "U4O_Yi1i-Zi6",
        "colab_type": "code",
        "colab": {}
      },
      "source": [
        "compile_model(model_1)"
      ],
      "execution_count": 46,
      "outputs": []
    },
    {
      "cell_type": "markdown",
      "metadata": {
        "id": "dYwNgwDwjdyY",
        "colab_type": "text"
      },
      "source": [
        "## Train"
      ]
    },
    {
      "cell_type": "code",
      "metadata": {
        "id": "LCiXAi2M-5t7",
        "colab_type": "code",
        "colab": {}
      },
      "source": [
        "# train it\n",
        "\n",
        "def train_model(model, epochs=20):\n",
        "  early_stopping_cb = keras.callbacks.EarlyStopping(monitor='val_binary_accuracy', mode='max',\n",
        "                                                    patience=5, restore_best_weights=True)\n",
        "\n",
        "  reduce_lr = keras.callbacks.ReduceLROnPlateau(monitor='val_loss', factor=0.2,\n",
        "                                                patience=3, min_delta=0.001)\n",
        "\n",
        "  logdir = os.path.join(\"logs\", datetime.datetime.now().strftime(\"%Y%m%d-%H%M%S\"))\n",
        "  # tensorboard_cb = tf.keras.callbacks.TensorBoard(logdir, histogram_freq=1)\n",
        "\n",
        "  history = model.fit(train_ds,\n",
        "                      epochs=epochs,\n",
        "                      validation_data=val_ds,\n",
        "                      callbacks=[early_stopping_cb, reduce_lr])\n",
        "  return history"
      ],
      "execution_count": 80,
      "outputs": []
    },
    {
      "cell_type": "code",
      "metadata": {
        "id": "dO8gV---aGsg",
        "colab_type": "code",
        "colab": {
          "base_uri": "https://localhost:8080/",
          "height": 777
        },
        "outputId": "a8aefd1b-8bf6-46a2-be2d-68c529284f40"
      },
      "source": [
        "history_1 = train_model(model_1)"
      ],
      "execution_count": 51,
      "outputs": [
        {
          "output_type": "stream",
          "text": [
            "Epoch 1/20\n",
            "196/196 [==============================] - 16s 80ms/step - loss: 0.6933 - binary_accuracy: 0.4981 - val_loss: 0.6924 - val_binary_accuracy: 0.5050\n",
            "Epoch 2/20\n",
            "196/196 [==============================] - 15s 78ms/step - loss: 0.6839 - binary_accuracy: 0.5288 - val_loss: 0.6811 - val_binary_accuracy: 0.5420\n",
            "Epoch 3/20\n",
            "196/196 [==============================] - 15s 77ms/step - loss: 0.6068 - binary_accuracy: 0.7584 - val_loss: 0.5728 - val_binary_accuracy: 0.8602\n",
            "Epoch 4/20\n",
            "196/196 [==============================] - 15s 77ms/step - loss: 0.5542 - binary_accuracy: 0.8850 - val_loss: 0.5615 - val_binary_accuracy: 0.8784\n",
            "Epoch 5/20\n",
            "196/196 [==============================] - 15s 76ms/step - loss: 0.5385 - binary_accuracy: 0.9199 - val_loss: 0.5570 - val_binary_accuracy: 0.8882\n",
            "Epoch 6/20\n",
            "196/196 [==============================] - 15s 78ms/step - loss: 0.5330 - binary_accuracy: 0.9321 - val_loss: 0.5557 - val_binary_accuracy: 0.8986\n",
            "Epoch 7/20\n",
            "196/196 [==============================] - 15s 77ms/step - loss: 0.5274 - binary_accuracy: 0.9444 - val_loss: 0.5531 - val_binary_accuracy: 0.8918\n",
            "Epoch 8/20\n",
            "196/196 [==============================] - 15s 77ms/step - loss: 0.5260 - binary_accuracy: 0.9477 - val_loss: 0.5594 - val_binary_accuracy: 0.8978\n",
            "Epoch 9/20\n",
            "196/196 [==============================] - 15s 77ms/step - loss: 0.5240 - binary_accuracy: 0.9524 - val_loss: 0.5567 - val_binary_accuracy: 0.9008\n",
            "Epoch 10/20\n",
            "196/196 [==============================] - 15s 77ms/step - loss: 0.5221 - binary_accuracy: 0.9563 - val_loss: 0.5602 - val_binary_accuracy: 0.8978\n",
            "Epoch 11/20\n",
            "196/196 [==============================] - 15s 77ms/step - loss: 0.5198 - binary_accuracy: 0.9614 - val_loss: 0.5504 - val_binary_accuracy: 0.9030\n",
            "Epoch 12/20\n",
            "196/196 [==============================] - 15s 79ms/step - loss: 0.5187 - binary_accuracy: 0.9638 - val_loss: 0.5497 - val_binary_accuracy: 0.9044\n",
            "Epoch 13/20\n",
            "196/196 [==============================] - 15s 78ms/step - loss: 0.5179 - binary_accuracy: 0.9656 - val_loss: 0.5497 - val_binary_accuracy: 0.9058\n",
            "Epoch 14/20\n",
            "196/196 [==============================] - 15s 77ms/step - loss: 0.5172 - binary_accuracy: 0.9670 - val_loss: 0.5492 - val_binary_accuracy: 0.9067\n",
            "Epoch 15/20\n",
            "196/196 [==============================] - 15s 78ms/step - loss: 0.5169 - binary_accuracy: 0.9677 - val_loss: 0.5495 - val_binary_accuracy: 0.9067\n",
            "Epoch 16/20\n",
            "196/196 [==============================] - 15s 78ms/step - loss: 0.5165 - binary_accuracy: 0.9688 - val_loss: 0.5503 - val_binary_accuracy: 0.9081\n",
            "Epoch 17/20\n",
            "196/196 [==============================] - 15s 78ms/step - loss: 0.5162 - binary_accuracy: 0.9695 - val_loss: 0.5492 - val_binary_accuracy: 0.9088\n",
            "Epoch 18/20\n",
            "196/196 [==============================] - 15s 76ms/step - loss: 0.5159 - binary_accuracy: 0.9700 - val_loss: 0.5490 - val_binary_accuracy: 0.9086\n",
            "Epoch 19/20\n",
            "196/196 [==============================] - 15s 76ms/step - loss: 0.5157 - binary_accuracy: 0.9704 - val_loss: 0.5491 - val_binary_accuracy: 0.9086\n",
            "Epoch 20/20\n",
            "196/196 [==============================] - 15s 76ms/step - loss: 0.5156 - binary_accuracy: 0.9707 - val_loss: 0.5490 - val_binary_accuracy: 0.9084\n"
          ],
          "name": "stdout"
        }
      ]
    },
    {
      "cell_type": "code",
      "metadata": {
        "id": "TOtEfRnjIRkZ",
        "colab_type": "code",
        "colab": {}
      },
      "source": [
        "model_1.save('/content/drive/My Drive/IPM AI/Models/BERT-Tokenize-Embedding-Dense.h5')"
      ],
      "execution_count": 52,
      "outputs": []
    },
    {
      "cell_type": "code",
      "metadata": {
        "id": "WaCOTrRBm13A",
        "colab_type": "code",
        "colab": {
          "base_uri": "https://localhost:8080/",
          "height": 295
        },
        "outputId": "4741f297-3fe9-4109-83ea-966ca24eb132"
      },
      "source": [
        "plot_history(history_1)"
      ],
      "execution_count": 101,
      "outputs": [
        {
          "output_type": "display_data",
          "data": {
            "image/png": "[encoded data removed]",
            "text/plain": [
              "<Figure size 432x288 with 1 Axes>"
            ]
          },
          "metadata": {
            "tags": [],
            "needs_background": "light"
          }
        }
      ]
    },
    {
      "cell_type": "markdown",
      "metadata": {
        "id": "neUG5mslnLpA",
        "colab_type": "text"
      },
      "source": [
        "## Evaluate"
      ]
    },
    {
      "cell_type": "code",
      "metadata": {
        "id": "kpkUYsDRdFjF",
        "colab_type": "code",
        "colab": {
          "base_uri": "https://localhost:8080/",
          "height": 55
        },
        "outputId": "704116dc-641b-422d-e8e9-280ceebe3343"
      },
      "source": [
        "model_1.evaluate(test_ds)"
      ],
      "execution_count": 67,
      "outputs": [
        {
          "output_type": "stream",
          "text": [
            "98/98 [==============================] - 2s 16ms/step - loss: 0.5447 - binary_accuracy: 0.9113\n"
          ],
          "name": "stdout"
        },
        {
          "output_type": "execute_result",
          "data": {
            "text/plain": [
              "[0.5446987748146057, 0.9112799763679504]"
            ]
          },
          "metadata": {
            "tags": []
          },
          "execution_count": 67
        }
      ]
    },
    {
      "cell_type": "markdown",
      "metadata": {
        "id": "K_sbeaK8nWIb",
        "colab_type": "text"
      },
      "source": [
        "# Model #2"
      ]
    },
    {
      "cell_type": "markdown",
      "metadata": {
        "id": "19LwNpnxqEYM",
        "colab_type": "text"
      },
      "source": [
        "## Design"
      ]
    },
    {
      "cell_type": "code",
      "metadata": {
        "id": "1RMOMgbGnXRp",
        "colab_type": "code",
        "colab": {
          "base_uri": "https://localhost:8080/",
          "height": 511
        },
        "outputId": "a5fc3f0c-a1a8-4a38-9e62-62679aa0866b"
      },
      "source": [
        "# build the damn model\n",
        "\n",
        "from tensorflow.keras import layers\n",
        "\n",
        "model_2 = keras.models.Sequential(name='sentiment')\n",
        "\n",
        "model_2.add(layers.Embedding(vocab_size, 128, input_length=max_seq_len, mask_zero=True, name='embedding'))\n",
        "model_2.add(layers.Dropout(0.2, name='dropout_1'))\n",
        "model_2.add(layers.Conv1D(128, 5, name='conv'))\n",
        "model_2.add(layers.GlobalMaxPool1D(name='pool'))\n",
        "model_2.add(layers.Dropout(0.1, name='dropout_2'))\n",
        "model_2.add(layers.Dense(128, activation='relu', name='dense_1'))\n",
        "model_2.add(layers.Dropout(0.05, name='dropout_3'))\n",
        "model_2.add(layers.Dense(64, activation='relu', name='dense_2'))\n",
        "model_2.add(layers.Dense(1, activation='sigmoid', name='label'))\n",
        "\n",
        "model_2.build(input_shape=(None, max_seq_len))\n",
        "\n",
        "model_2.summary()"
      ],
      "execution_count": 73,
      "outputs": [
        {
          "output_type": "stream",
          "text": [
            "Model: \"sentiment\"\n",
            "_________________________________________________________________\n",
            "Layer (type)                 Output Shape              Param #   \n",
            "=================================================================\n",
            "embedding (Embedding)        (None, 1000, 128)         3858944   \n",
            "_________________________________________________________________\n",
            "dropout_1 (Dropout)          (None, 1000, 128)         0         \n",
            "_________________________________________________________________\n",
            "conv (Conv1D)                (None, 996, 128)          82048     \n",
            "_________________________________________________________________\n",
            "pool (GlobalMaxPooling1D)    (None, 128)               0         \n",
            "_________________________________________________________________\n",
            "dropout_2 (Dropout)          (None, 128)               0         \n",
            "_________________________________________________________________\n",
            "dense_1 (Dense)              (None, 128)               16512     \n",
            "_________________________________________________________________\n",
            "dropout_3 (Dropout)          (None, 128)               0         \n",
            "_________________________________________________________________\n",
            "dense_2 (Dense)              (None, 64)                8256      \n",
            "_________________________________________________________________\n",
            "label (Dense)                (None, 1)                 65        \n",
            "=================================================================\n",
            "Total params: 3,965,825\n",
            "Trainable params: 3,965,825\n",
            "Non-trainable params: 0\n",
            "_________________________________________________________________\n"
          ],
          "name": "stdout"
        }
      ]
    },
    {
      "cell_type": "code",
      "metadata": {
        "id": "ADQheh2ipWA1",
        "colab_type": "code",
        "colab": {}
      },
      "source": [
        "compile_model(model_2)"
      ],
      "execution_count": 74,
      "outputs": []
    },
    {
      "cell_type": "markdown",
      "metadata": {
        "id": "D5hBN-Llp9y_",
        "colab_type": "text"
      },
      "source": [
        "## Train"
      ]
    },
    {
      "cell_type": "code",
      "metadata": {
        "id": "8rRlUQEop8K4",
        "colab_type": "code",
        "colab": {
          "base_uri": "https://localhost:8080/",
          "height": 1000
        },
        "outputId": "2d31ee02-142a-4865-b797-8fe27a0ab780"
      },
      "source": [
        "history_2 = train_model(model_2, epochs=30)"
      ],
      "execution_count": 75,
      "outputs": [
        {
          "output_type": "stream",
          "text": [
            "Epoch 1/30\n",
            "196/196 [==============================] - 16s 81ms/step - loss: 0.6787 - binary_accuracy: 0.5477 - val_loss: 0.6128 - val_binary_accuracy: 0.7414\n",
            "Epoch 2/30\n",
            "196/196 [==============================] - 16s 79ms/step - loss: 0.5968 - binary_accuracy: 0.7812 - val_loss: 0.5857 - val_binary_accuracy: 0.8190\n",
            "Epoch 3/30\n",
            "196/196 [==============================] - 16s 80ms/step - loss: 0.5774 - binary_accuracy: 0.8238 - val_loss: 0.5754 - val_binary_accuracy: 0.8522\n",
            "Epoch 4/30\n",
            "196/196 [==============================] - 16s 80ms/step - loss: 0.5544 - binary_accuracy: 0.8840 - val_loss: 0.5610 - val_binary_accuracy: 0.8951\n",
            "Epoch 5/30\n",
            "196/196 [==============================] - 16s 80ms/step - loss: 0.5441 - binary_accuracy: 0.9092 - val_loss: 0.5551 - val_binary_accuracy: 0.9062\n",
            "Epoch 6/30\n",
            "196/196 [==============================] - 16s 80ms/step - loss: 0.5378 - binary_accuracy: 0.9231 - val_loss: 0.5522 - val_binary_accuracy: 0.9124\n",
            "Epoch 7/30\n",
            "196/196 [==============================] - 16s 80ms/step - loss: 0.5305 - binary_accuracy: 0.9391 - val_loss: 0.5436 - val_binary_accuracy: 0.9242\n",
            "Epoch 8/30\n",
            "196/196 [==============================] - 16s 80ms/step - loss: 0.5275 - binary_accuracy: 0.9452 - val_loss: 0.5464 - val_binary_accuracy: 0.9190\n",
            "Epoch 9/30\n",
            "196/196 [==============================] - 16s 80ms/step - loss: 0.5261 - binary_accuracy: 0.9487 - val_loss: 0.5469 - val_binary_accuracy: 0.9203\n",
            "Epoch 10/30\n",
            "196/196 [==============================] - 16s 81ms/step - loss: 0.5227 - binary_accuracy: 0.9565 - val_loss: 0.5439 - val_binary_accuracy: 0.9262\n",
            "Epoch 11/30\n",
            "196/196 [==============================] - 16s 82ms/step - loss: 0.5198 - binary_accuracy: 0.9622 - val_loss: 0.5388 - val_binary_accuracy: 0.9314\n",
            "Epoch 12/30\n",
            "196/196 [==============================] - 16s 81ms/step - loss: 0.5181 - binary_accuracy: 0.9661 - val_loss: 0.5380 - val_binary_accuracy: 0.9327\n",
            "Epoch 13/30\n",
            "196/196 [==============================] - 16s 81ms/step - loss: 0.5172 - binary_accuracy: 0.9681 - val_loss: 0.5388 - val_binary_accuracy: 0.9334\n",
            "Epoch 14/30\n",
            "196/196 [==============================] - 16s 81ms/step - loss: 0.5164 - binary_accuracy: 0.9700 - val_loss: 0.5387 - val_binary_accuracy: 0.9350\n",
            "Epoch 15/30\n",
            "196/196 [==============================] - 16s 80ms/step - loss: 0.5156 - binary_accuracy: 0.9720 - val_loss: 0.5383 - val_binary_accuracy: 0.9354\n",
            "Epoch 16/30\n",
            "196/196 [==============================] - 16s 80ms/step - loss: 0.5151 - binary_accuracy: 0.9727 - val_loss: 0.5375 - val_binary_accuracy: 0.9353\n",
            "Epoch 17/30\n",
            "196/196 [==============================] - 16s 80ms/step - loss: 0.5150 - binary_accuracy: 0.9729 - val_loss: 0.5376 - val_binary_accuracy: 0.9353\n",
            "Epoch 18/30\n",
            "196/196 [==============================] - 16s 81ms/step - loss: 0.5150 - binary_accuracy: 0.9727 - val_loss: 0.5375 - val_binary_accuracy: 0.9355\n",
            "Epoch 19/30\n",
            "196/196 [==============================] - 16s 81ms/step - loss: 0.5147 - binary_accuracy: 0.9735 - val_loss: 0.5389 - val_binary_accuracy: 0.9351\n",
            "Epoch 20/30\n",
            "196/196 [==============================] - 16s 80ms/step - loss: 0.5145 - binary_accuracy: 0.9747 - val_loss: 0.5382 - val_binary_accuracy: 0.9354\n",
            "Epoch 21/30\n",
            "196/196 [==============================] - 16s 81ms/step - loss: 0.5147 - binary_accuracy: 0.9737 - val_loss: 0.5379 - val_binary_accuracy: 0.9357\n",
            "Epoch 22/30\n",
            "196/196 [==============================] - 16s 80ms/step - loss: 0.5142 - binary_accuracy: 0.9748 - val_loss: 0.5380 - val_binary_accuracy: 0.9357\n",
            "Epoch 23/30\n",
            "196/196 [==============================] - 16s 80ms/step - loss: 0.5145 - binary_accuracy: 0.9742 - val_loss: 0.5379 - val_binary_accuracy: 0.9358\n",
            "Epoch 24/30\n",
            "196/196 [==============================] - 16s 80ms/step - loss: 0.5143 - binary_accuracy: 0.9743 - val_loss: 0.5380 - val_binary_accuracy: 0.9357\n",
            "Epoch 25/30\n",
            "196/196 [==============================] - 16s 80ms/step - loss: 0.5144 - binary_accuracy: 0.9744 - val_loss: 0.5380 - val_binary_accuracy: 0.9358\n",
            "Epoch 26/30\n",
            "196/196 [==============================] - 16s 79ms/step - loss: 0.5142 - binary_accuracy: 0.9749 - val_loss: 0.5380 - val_binary_accuracy: 0.9358\n",
            "Epoch 27/30\n",
            "196/196 [==============================] - 16s 80ms/step - loss: 0.5143 - binary_accuracy: 0.9747 - val_loss: 0.5380 - val_binary_accuracy: 0.9358\n",
            "Epoch 28/30\n",
            "196/196 [==============================] - 16s 81ms/step - loss: 0.5147 - binary_accuracy: 0.9734 - val_loss: 0.5380 - val_binary_accuracy: 0.9358\n",
            "Epoch 29/30\n",
            "196/196 [==============================] - 16s 81ms/step - loss: 0.5140 - binary_accuracy: 0.9751 - val_loss: 0.5380 - val_binary_accuracy: 0.9358\n",
            "Epoch 30/30\n",
            "196/196 [==============================] - 16s 81ms/step - loss: 0.5140 - binary_accuracy: 0.9750 - val_loss: 0.5380 - val_binary_accuracy: 0.9358\n"
          ],
          "name": "stdout"
        }
      ]
    },
    {
      "cell_type": "code",
      "metadata": {
        "id": "PbnsEuAXqGCY",
        "colab_type": "code",
        "colab": {}
      },
      "source": [
        "model_2.save('/content/drive/My Drive/IPM AI/Models/BERT-Tokenize-Conv-Dense.h5')"
      ],
      "execution_count": 78,
      "outputs": []
    },
    {
      "cell_type": "code",
      "metadata": {
        "id": "gfgzhK-oqLdv",
        "colab_type": "code",
        "colab": {
          "base_uri": "https://localhost:8080/",
          "height": 295
        },
        "outputId": "7b99c479-4dd6-47d9-d94b-3bbc6b179338"
      },
      "source": [
        "plot_history(history_2)"
      ],
      "execution_count": 100,
      "outputs": [
        {
          "output_type": "display_data",
          "data": {
            "image/png": "[encoded data removed]",
            "text/plain": [
              "<Figure size 432x288 with 1 Axes>"
            ]
          },
          "metadata": {
            "tags": [],
            "needs_background": "light"
          }
        }
      ]
    },
    {
      "cell_type": "markdown",
      "metadata": {
        "id": "egRJpwRtqPv3",
        "colab_type": "text"
      },
      "source": [
        "## Evaluate"
      ]
    },
    {
      "cell_type": "code",
      "metadata": {
        "id": "awlrv3_WqVuV",
        "colab_type": "code",
        "colab": {
          "base_uri": "https://localhost:8080/",
          "height": 55
        },
        "outputId": "bbc62fb8-0dc2-4750-a1bc-d9d1679e75a4"
      },
      "source": [
        "model_2.evaluate(test_ds)"
      ],
      "execution_count": 77,
      "outputs": [
        {
          "output_type": "stream",
          "text": [
            "98/98 [==============================] - 2s 17ms/step - loss: 0.5349 - binary_accuracy: 0.9339\n"
          ],
          "name": "stdout"
        },
        {
          "output_type": "execute_result",
          "data": {
            "text/plain": [
              "[0.5349380970001221, 0.9339200258255005]"
            ]
          },
          "metadata": {
            "tags": []
          },
          "execution_count": 77
        }
      ]
    },
    {
      "cell_type": "markdown",
      "metadata": {
        "id": "dIIPy8FM5nSz",
        "colab_type": "text"
      },
      "source": [
        "# Model #3"
      ]
    },
    {
      "cell_type": "markdown",
      "metadata": {
        "id": "Kag6VmSy5pmu",
        "colab_type": "text"
      },
      "source": [
        "## Design"
      ]
    },
    {
      "cell_type": "code",
      "metadata": {
        "id": "4waqe8Eov6Yv",
        "colab_type": "code",
        "colab": {
          "base_uri": "https://localhost:8080/",
          "height": 473
        },
        "outputId": "f8ac6c59-14a8-4c1f-dc3a-4a46adc9adb6"
      },
      "source": [
        "# build the damn model\n",
        "\n",
        "from tensorflow.keras import layers\n",
        "\n",
        "model_3 = keras.models.Sequential(name='sentiment')\n",
        "\n",
        "model_3.add(layers.Embedding(vocab_size, 128, input_length=max_seq_len, mask_zero=True, name='embedding'))\n",
        "model_3.add(layers.Dropout(0.2, name='dropout_1'))\n",
        "model_3.add(layers.Bidirectional(layers.LSTM(32, return_sequences=True), name='lstm'))\n",
        "model_3.add(layers.Dropout(0.1, name='dropout_2'))\n",
        "model_3.add(layers.Conv1D(64, 5, name='conv'))\n",
        "model_3.add(layers.GlobalMaxPooling1D(name='pool'))\n",
        "# model_3.add(layers.Dropout(0.05, name='dropout_3'))\n",
        "model_3.add(layers.Dense(128, activation='relu', name='dense_1'))\n",
        "\n",
        "# model_3.add(layers.Dense(64, activation='relu', name='dense_2'))\n",
        "# model_3.add(layers.Dense(64, activation='relu', name='dense_3'))\n",
        "model_3.add(layers.Dense(1, activation='sigmoid', name='label'))\n",
        "\n",
        "model_3.build(input_shape=(None, max_seq_len))\n",
        "\n",
        "model_3.summary()"
      ],
      "execution_count": 93,
      "outputs": [
        {
          "output_type": "stream",
          "text": [
            "Model: \"sentiment\"\n",
            "_________________________________________________________________\n",
            "Layer (type)                 Output Shape              Param #   \n",
            "=================================================================\n",
            "embedding (Embedding)        (None, 1000, 128)         3858944   \n",
            "_________________________________________________________________\n",
            "dropout_1 (Dropout)          (None, 1000, 128)         0         \n",
            "_________________________________________________________________\n",
            "lstm (Bidirectional)         (None, 1000, 64)          41216     \n",
            "_________________________________________________________________\n",
            "dropout_2 (Dropout)          (None, 1000, 64)          0         \n",
            "_________________________________________________________________\n",
            "conv (Conv1D)                (None, 996, 64)           20544     \n",
            "_________________________________________________________________\n",
            "pool (GlobalMaxPooling1D)    (None, 64)                0         \n",
            "_________________________________________________________________\n",
            "dense_1 (Dense)              (None, 128)               8320      \n",
            "_________________________________________________________________\n",
            "label (Dense)                (None, 1)                 129       \n",
            "=================================================================\n",
            "Total params: 3,929,153\n",
            "Trainable params: 3,929,153\n",
            "Non-trainable params: 0\n",
            "_________________________________________________________________\n"
          ],
          "name": "stdout"
        }
      ]
    },
    {
      "cell_type": "code",
      "metadata": {
        "id": "9_0Pk7SWKqCk",
        "colab_type": "code",
        "colab": {}
      },
      "source": [
        "compile_model(model_3)"
      ],
      "execution_count": 94,
      "outputs": []
    },
    {
      "cell_type": "markdown",
      "metadata": {
        "id": "iTDjEqmKKlYI",
        "colab_type": "text"
      },
      "source": [
        "## Train"
      ]
    },
    {
      "cell_type": "code",
      "metadata": {
        "id": "5ctVK_VUKaBl",
        "colab_type": "code",
        "colab": {
          "base_uri": "https://localhost:8080/",
          "height": 777
        },
        "outputId": "78f3ed70-d03e-4214-df4e-d01c7034b8aa"
      },
      "source": [
        "history_3 = train_model(model_3)"
      ],
      "execution_count": 95,
      "outputs": [
        {
          "output_type": "stream",
          "text": [
            "Epoch 1/20\n",
            "196/196 [==============================] - 37s 187ms/step - loss: 0.6264 - binary_accuracy: 0.7000 - val_loss: 0.5760 - val_binary_accuracy: 0.8293\n",
            "Epoch 2/20\n",
            "196/196 [==============================] - 35s 177ms/step - loss: 0.5646 - binary_accuracy: 0.8626 - val_loss: 0.5616 - val_binary_accuracy: 0.8757\n",
            "Epoch 3/20\n",
            "196/196 [==============================] - 35s 176ms/step - loss: 0.5519 - binary_accuracy: 0.8928 - val_loss: 0.5589 - val_binary_accuracy: 0.8945\n",
            "Epoch 4/20\n",
            "196/196 [==============================] - 35s 176ms/step - loss: 0.5514 - binary_accuracy: 0.8938 - val_loss: 0.5582 - val_binary_accuracy: 0.8963\n",
            "Epoch 5/20\n",
            "196/196 [==============================] - 35s 176ms/step - loss: 0.5475 - binary_accuracy: 0.9004 - val_loss: 0.5627 - val_binary_accuracy: 0.8930\n",
            "Epoch 6/20\n",
            "196/196 [==============================] - 34s 176ms/step - loss: 0.5501 - binary_accuracy: 0.8985 - val_loss: 0.5654 - val_binary_accuracy: 0.8882\n",
            "Epoch 7/20\n",
            "196/196 [==============================] - 35s 176ms/step - loss: 0.5381 - binary_accuracy: 0.9232 - val_loss: 0.5525 - val_binary_accuracy: 0.9018\n",
            "Epoch 8/20\n",
            "196/196 [==============================] - 35s 177ms/step - loss: 0.5341 - binary_accuracy: 0.9324 - val_loss: 0.5519 - val_binary_accuracy: 0.9059\n",
            "Epoch 9/20\n",
            "196/196 [==============================] - 35s 177ms/step - loss: 0.5316 - binary_accuracy: 0.9375 - val_loss: 0.5544 - val_binary_accuracy: 0.9051\n",
            "Epoch 10/20\n",
            "196/196 [==============================] - 35s 178ms/step - loss: 0.5290 - binary_accuracy: 0.9438 - val_loss: 0.5487 - val_binary_accuracy: 0.9098\n",
            "Epoch 11/20\n",
            "196/196 [==============================] - 35s 177ms/step - loss: 0.5280 - binary_accuracy: 0.9455 - val_loss: 0.5478 - val_binary_accuracy: 0.9120\n",
            "Epoch 12/20\n",
            "196/196 [==============================] - 35s 179ms/step - loss: 0.5272 - binary_accuracy: 0.9476 - val_loss: 0.5473 - val_binary_accuracy: 0.9103\n",
            "Epoch 13/20\n",
            "196/196 [==============================] - 35s 178ms/step - loss: 0.5269 - binary_accuracy: 0.9479 - val_loss: 0.5469 - val_binary_accuracy: 0.9141\n",
            "Epoch 14/20\n",
            "196/196 [==============================] - 35s 179ms/step - loss: 0.5257 - binary_accuracy: 0.9504 - val_loss: 0.5465 - val_binary_accuracy: 0.9140\n",
            "Epoch 15/20\n",
            "196/196 [==============================] - 35s 179ms/step - loss: 0.5251 - binary_accuracy: 0.9516 - val_loss: 0.5465 - val_binary_accuracy: 0.9125\n",
            "Epoch 16/20\n",
            "196/196 [==============================] - 35s 179ms/step - loss: 0.5248 - binary_accuracy: 0.9520 - val_loss: 0.5461 - val_binary_accuracy: 0.9154\n",
            "Epoch 17/20\n",
            "196/196 [==============================] - 35s 178ms/step - loss: 0.5243 - binary_accuracy: 0.9532 - val_loss: 0.5462 - val_binary_accuracy: 0.9154\n",
            "Epoch 18/20\n",
            "196/196 [==============================] - 35s 177ms/step - loss: 0.5241 - binary_accuracy: 0.9539 - val_loss: 0.5468 - val_binary_accuracy: 0.9162\n",
            "Epoch 19/20\n",
            "196/196 [==============================] - 35s 177ms/step - loss: 0.5240 - binary_accuracy: 0.9544 - val_loss: 0.5465 - val_binary_accuracy: 0.9168\n",
            "Epoch 20/20\n",
            "196/196 [==============================] - 35s 177ms/step - loss: 0.5237 - binary_accuracy: 0.9550 - val_loss: 0.5461 - val_binary_accuracy: 0.9162\n"
          ],
          "name": "stdout"
        }
      ]
    },
    {
      "cell_type": "code",
      "metadata": {
        "id": "2naO-fhKYSKm",
        "colab_type": "code",
        "colab": {}
      },
      "source": [
        "model_3.save('/content/drive/My Drive/IPM AI/Models/BERT-Tokenize-LSTM-Conv-Dense.h5')"
      ],
      "execution_count": 99,
      "outputs": []
    },
    {
      "cell_type": "code",
      "metadata": {
        "id": "F0lR53N9LoST",
        "colab_type": "code",
        "colab": {
          "base_uri": "https://localhost:8080/",
          "height": 295
        },
        "outputId": "5827e448-0356-4782-d8e6-cde624c07b9f"
      },
      "source": [
        "plot_history(history_3)"
      ],
      "execution_count": 96,
      "outputs": [
        {
          "output_type": "display_data",
          "data": {
            "image/png": "[encoded data removed]",
            "text/plain": [
              "<Figure size 432x288 with 1 Axes>"
            ]
          },
          "metadata": {
            "tags": [],
            "needs_background": "light"
          }
        }
      ]
    },
    {
      "cell_type": "markdown",
      "metadata": {
        "id": "RjWAZ2ccXlM1",
        "colab_type": "text"
      },
      "source": [
        "## Evaluate"
      ]
    },
    {
      "cell_type": "code",
      "metadata": {
        "id": "uzHYZfjcXqWR",
        "colab_type": "code",
        "colab": {
          "base_uri": "https://localhost:8080/",
          "height": 55
        },
        "outputId": "48df0c7a-e7e4-4f1d-f876-af53b8322a84"
      },
      "source": [
        "model_3.evaluate(test_ds)"
      ],
      "execution_count": 97,
      "outputs": [
        {
          "output_type": "stream",
          "text": [
            "98/98 [==============================] - 5s 53ms/step - loss: 0.5440 - binary_accuracy: 0.9138\n"
          ],
          "name": "stdout"
        },
        {
          "output_type": "execute_result",
          "data": {
            "text/plain": [
              "[0.5440124273300171, 0.9137600064277649]"
            ]
          },
          "metadata": {
            "tags": []
          },
          "execution_count": 97
        }
      ]
    },
    {
      "cell_type": "markdown",
      "metadata": {
        "id": "imk0c41vXxsH",
        "colab_type": "text"
      },
      "source": [
        "# Model #4"
      ]
    },
    {
      "cell_type": "markdown",
      "metadata": {
        "id": "dpR5og39X0ZG",
        "colab_type": "text"
      },
      "source": [
        "## Design"
      ]
    },
    {
      "cell_type": "code",
      "metadata": {
        "id": "LEh5ki3aXzYK",
        "colab_type": "code",
        "colab": {
          "base_uri": "https://localhost:8080/",
          "height": 549
        },
        "outputId": "67365473-aa70-4a25-ab67-b415ac74dc45"
      },
      "source": [
        "# build the damn model\n",
        "\n",
        "from tensorflow.keras import layers\n",
        "\n",
        "model_4 = keras.models.Sequential(name='sentiment')\n",
        "\n",
        "model_4.add(layers.Embedding(vocab_size, 128, input_length=max_seq_len, mask_zero=True))\n",
        "model_4.add(layers.Dropout(0.2, name='dropout_1'))\n",
        "model_4.add(layers.Conv1D(128, 7, name='conv'))\n",
        "model_4.add(layers.Bidirectional(layers.LSTM(64, return_sequences=True), name='lstm'))\n",
        "model_4.add(layers.GlobalMaxPooling1D(name='pool'))\n",
        "model_4.add(layers.Dropout(0.1, name='dropout_2'))\n",
        "model_4.add(layers.Dense(128, activation='relu', name='dense_1'))\n",
        "model_4.add(layers.Dropout(0.05, name='dropout_3'))\n",
        "model_4.add(layers.Dense(64, activation='relu', name='dense_2'))\n",
        "# model.add(layers.Dense(64, activation='relu', name='dense_3'))\n",
        "model_4.add(layers.Dense(1, activation='sigmoid', name='label'))\n",
        "\n",
        "model_4.build(input_shape=(None, max_seq_len))\n",
        "\n",
        "model_4.summary()"
      ],
      "execution_count": 114,
      "outputs": [
        {
          "output_type": "stream",
          "text": [
            "Model: \"sentiment\"\n",
            "_________________________________________________________________\n",
            "Layer (type)                 Output Shape              Param #   \n",
            "=================================================================\n",
            "embedding_5 (Embedding)      (None, 1000, 128)         3858944   \n",
            "_________________________________________________________________\n",
            "dropout_1 (Dropout)          (None, 1000, 128)         0         \n",
            "_________________________________________________________________\n",
            "conv (Conv1D)                (None, 994, 128)          114816    \n",
            "_________________________________________________________________\n",
            "lstm (Bidirectional)         (None, 994, 128)          98816     \n",
            "_________________________________________________________________\n",
            "pool (GlobalMaxPooling1D)    (None, 128)               0         \n",
            "_________________________________________________________________\n",
            "dropout_2 (Dropout)          (None, 128)               0         \n",
            "_________________________________________________________________\n",
            "dense_1 (Dense)              (None, 128)               16512     \n",
            "_________________________________________________________________\n",
            "dropout_3 (Dropout)          (None, 128)               0         \n",
            "_________________________________________________________________\n",
            "dense_2 (Dense)              (None, 64)                8256      \n",
            "_________________________________________________________________\n",
            "label (Dense)                (None, 1)                 65        \n",
            "=================================================================\n",
            "Total params: 4,097,409\n",
            "Trainable params: 4,097,409\n",
            "Non-trainable params: 0\n",
            "_________________________________________________________________\n"
          ],
          "name": "stdout"
        }
      ]
    },
    {
      "cell_type": "code",
      "metadata": {
        "id": "IdFr_IYAK-FY",
        "colab_type": "code",
        "colab": {}
      },
      "source": [
        "compile_model(model_4)"
      ],
      "execution_count": 115,
      "outputs": []
    },
    {
      "cell_type": "markdown",
      "metadata": {
        "id": "udWjaunSX1os",
        "colab_type": "text"
      },
      "source": [
        "## Train"
      ]
    },
    {
      "cell_type": "code",
      "metadata": {
        "id": "A5MCI1eqX2lj",
        "colab_type": "code",
        "colab": {
          "base_uri": "https://localhost:8080/",
          "height": 777
        },
        "outputId": "3da6df78-57ca-4f40-cce9-62b328d288ae"
      },
      "source": [
        "history_4 = train_model(model_4)"
      ],
      "execution_count": 116,
      "outputs": [
        {
          "output_type": "stream",
          "text": [
            "Epoch 1/20\n",
            "196/196 [==============================] - 42s 213ms/step - loss: 0.6371 - binary_accuracy: 0.6798 - val_loss: 0.5969 - val_binary_accuracy: 0.8063\n",
            "Epoch 2/20\n",
            "196/196 [==============================] - 42s 212ms/step - loss: 0.5976 - binary_accuracy: 0.7897 - val_loss: 0.5867 - val_binary_accuracy: 0.8318\n",
            "Epoch 3/20\n",
            "196/196 [==============================] - 41s 210ms/step - loss: 0.5769 - binary_accuracy: 0.8372 - val_loss: 0.5790 - val_binary_accuracy: 0.8494\n",
            "Epoch 4/20\n",
            "196/196 [==============================] - 41s 208ms/step - loss: 0.5681 - binary_accuracy: 0.8545 - val_loss: 0.5723 - val_binary_accuracy: 0.8633\n",
            "Epoch 5/20\n",
            "196/196 [==============================] - 40s 206ms/step - loss: 0.5560 - binary_accuracy: 0.8825 - val_loss: 0.5654 - val_binary_accuracy: 0.8708\n",
            "Epoch 6/20\n",
            "196/196 [==============================] - 42s 212ms/step - loss: 0.5517 - binary_accuracy: 0.8919 - val_loss: 0.5625 - val_binary_accuracy: 0.8835\n",
            "Epoch 7/20\n",
            "196/196 [==============================] - 40s 204ms/step - loss: 0.5467 - binary_accuracy: 0.9041 - val_loss: 0.5596 - val_binary_accuracy: 0.8868\n",
            "Epoch 8/20\n",
            "196/196 [==============================] - 41s 207ms/step - loss: 0.5455 - binary_accuracy: 0.9073 - val_loss: 0.5586 - val_binary_accuracy: 0.8805\n",
            "Epoch 9/20\n",
            "196/196 [==============================] - 41s 207ms/step - loss: 0.5417 - binary_accuracy: 0.9154 - val_loss: 0.5676 - val_binary_accuracy: 0.8510\n",
            "Epoch 10/20\n",
            "196/196 [==============================] - 40s 207ms/step - loss: 0.5437 - binary_accuracy: 0.9105 - val_loss: 0.5598 - val_binary_accuracy: 0.8747\n",
            "Epoch 11/20\n",
            "196/196 [==============================] - 40s 206ms/step - loss: 0.5352 - binary_accuracy: 0.9290 - val_loss: 0.5532 - val_binary_accuracy: 0.9027\n",
            "Epoch 12/20\n",
            "196/196 [==============================] - 40s 205ms/step - loss: 0.5313 - binary_accuracy: 0.9380 - val_loss: 0.5528 - val_binary_accuracy: 0.9046\n",
            "Epoch 13/20\n",
            "196/196 [==============================] - 41s 207ms/step - loss: 0.5290 - binary_accuracy: 0.9430 - val_loss: 0.5505 - val_binary_accuracy: 0.9073\n",
            "Epoch 14/20\n",
            "196/196 [==============================] - 40s 204ms/step - loss: 0.5277 - binary_accuracy: 0.9455 - val_loss: 0.5548 - val_binary_accuracy: 0.9051\n",
            "Epoch 15/20\n",
            "196/196 [==============================] - 40s 205ms/step - loss: 0.5266 - binary_accuracy: 0.9482 - val_loss: 0.5508 - val_binary_accuracy: 0.9093\n",
            "Epoch 16/20\n",
            "196/196 [==============================] - 41s 208ms/step - loss: 0.5261 - binary_accuracy: 0.9493 - val_loss: 0.5501 - val_binary_accuracy: 0.9113\n",
            "Epoch 17/20\n",
            "196/196 [==============================] - 41s 210ms/step - loss: 0.5247 - binary_accuracy: 0.9526 - val_loss: 0.5492 - val_binary_accuracy: 0.9116\n",
            "Epoch 18/20\n",
            "196/196 [==============================] - 40s 206ms/step - loss: 0.5240 - binary_accuracy: 0.9540 - val_loss: 0.5486 - val_binary_accuracy: 0.9114\n",
            "Epoch 19/20\n",
            "196/196 [==============================] - 40s 206ms/step - loss: 0.5238 - binary_accuracy: 0.9546 - val_loss: 0.5485 - val_binary_accuracy: 0.9122\n",
            "Epoch 20/20\n",
            "196/196 [==============================] - 40s 205ms/step - loss: 0.5233 - binary_accuracy: 0.9556 - val_loss: 0.5485 - val_binary_accuracy: 0.9128\n"
          ],
          "name": "stdout"
        }
      ]
    },
    {
      "cell_type": "code",
      "metadata": {
        "id": "BcaDEKjgYOBi",
        "colab_type": "code",
        "colab": {}
      },
      "source": [
        "model_4.save('/content/drive/My Drive/IPM AI/Models/BERT-Tokenize-Conv-LSTM-Pool.h5')"
      ],
      "execution_count": 117,
      "outputs": []
    },
    {
      "cell_type": "code",
      "metadata": {
        "id": "DvbKDvfTYbkP",
        "colab_type": "code",
        "colab": {
          "base_uri": "https://localhost:8080/",
          "height": 295
        },
        "outputId": "29e7c5b5-8dba-4458-f44c-3fafbdfa10a3"
      },
      "source": [
        "plot_history(history_4)"
      ],
      "execution_count": 127,
      "outputs": [
        {
          "output_type": "display_data",
          "data": {
            "image/png": "[encoded data removed]",
            "text/plain": [
              "<Figure size 432x288 with 1 Axes>"
            ]
          },
          "metadata": {
            "tags": [],
            "needs_background": "light"
          }
        }
      ]
    },
    {
      "cell_type": "markdown",
      "metadata": {
        "id": "zM8S9nb-X2-c",
        "colab_type": "text"
      },
      "source": [
        "## Evaluate"
      ]
    },
    {
      "cell_type": "code",
      "metadata": {
        "id": "0Ammh4A5X4P-",
        "colab_type": "code",
        "colab": {
          "base_uri": "https://localhost:8080/",
          "height": 55
        },
        "outputId": "3e7c96b8-aaa6-475c-8631-6d914b18801a"
      },
      "source": [
        "model_4.evaluate(test_ds)"
      ],
      "execution_count": 119,
      "outputs": [
        {
          "output_type": "stream",
          "text": [
            "98/98 [==============================] - 6s 61ms/step - loss: 0.5456 - binary_accuracy: 0.9109\n"
          ],
          "name": "stdout"
        },
        {
          "output_type": "execute_result",
          "data": {
            "text/plain": [
              "[0.5455991625785828, 0.9108800292015076]"
            ]
          },
          "metadata": {
            "tags": []
          },
          "execution_count": 119
        }
      ]
    },
    {
      "cell_type": "markdown",
      "metadata": {
        "id": "FzPPjh16Tc_V",
        "colab_type": "text"
      },
      "source": [
        "# Conclusion"
      ]
    },
    {
      "cell_type": "markdown",
      "metadata": {
        "id": "P3lE4WlfTf_u",
        "colab_type": "text"
      },
      "source": [
        "Best model: model #2\n",
        "\n",
        "Test accuracy: 93.392"
      ]
    }
  ]
}